{
  "nbformat": 4,
  "nbformat_minor": 0,
  "metadata": {
    "colab": {
      "name": "Pset 3",
      "provenance": [],
      "collapsed_sections": []
    },
    "kernelspec": {
      "name": "python3",
      "display_name": "Python 3"
    },
    "language_info": {
      "name": "python"
    }
  },
  "cells": [
    {
      "cell_type": "markdown",
      "metadata": {
        "id": "fbPOre3NurHU"
      },
      "source": [
        "Problem Set 3: Ulaanbaatar Air Pollution\n",
        "\n",
        "Chinguun Batsaikhan\n"
      ]
    },
    {
      "cell_type": "markdown",
      "metadata": {
        "id": "Sx2oMmCGvH-H"
      },
      "source": [
        "1) Importing Data"
      ]
    },
    {
      "cell_type": "code",
      "metadata": {
        "id": "qpEq4ATLvNVG"
      },
      "source": [
        "import pandas as pd\n",
        "import numpy as np\n",
        "import matplotlib.pyplot as plt\n",
        "import seaborn as sns\n",
        "from sklearn import *\n",
        "import xgboost as xgb\n",
        "from sklearn.preprocessing import OneHotEncoder\n",
        "%matplotlib inline"
      ],
      "execution_count": 239,
      "outputs": []
    },
    {
      "cell_type": "code",
      "metadata": {
        "id": "7kz-tPJ0vhQB"
      },
      "source": [
        "X = pd.read_csv('/content/drive/MyDrive/pset3_data_fixed/X.csv', index_col='id')"
      ],
      "execution_count": 240,
      "outputs": []
    },
    {
      "cell_type": "code",
      "metadata": {
        "id": "bNEeTCPNxTSo"
      },
      "source": [
        "y = pd.read_csv('/content/drive/MyDrive/pset3_data_fixed/y.csv', index_col='id')"
      ],
      "execution_count": 241,
      "outputs": []
    },
    {
      "cell_type": "code",
      "metadata": {
        "id": "__D9FLu5xbqb"
      },
      "source": [
        "weather = pd.read_csv('/content/drive/MyDrive/pset3_data_fixed/weather.csv')"
      ],
      "execution_count": 242,
      "outputs": []
    },
    {
      "cell_type": "code",
      "metadata": {
        "id": "0z5rfhW3yCul"
      },
      "source": [
        "test = pd.read_csv('/content/drive/MyDrive/pset3_data_fixed/test.csv', index_col='id')"
      ],
      "execution_count": 243,
      "outputs": []
    },
    {
      "cell_type": "markdown",
      "metadata": {
        "id": "4Tpd6pa9yPrR"
      },
      "source": [
        "2) Data Cleaning"
      ]
    },
    {
      "cell_type": "code",
      "metadata": {
        "colab": {
          "base_uri": "https://localhost:8080/",
          "height": 235
        },
        "id": "Y1Zr3s5UysCd",
        "outputId": "cc5f4043-cc68-456f-e75a-faec8821f6d9"
      },
      "source": [
        "X.head()"
      ],
      "execution_count": 244,
      "outputs": [
        {
          "output_type": "execute_result",
          "data": {
            "text/html": [
              "<div>\n",
              "<style scoped>\n",
              "    .dataframe tbody tr th:only-of-type {\n",
              "        vertical-align: middle;\n",
              "    }\n",
              "\n",
              "    .dataframe tbody tr th {\n",
              "        vertical-align: top;\n",
              "    }\n",
              "\n",
              "    .dataframe thead th {\n",
              "        text-align: right;\n",
              "    }\n",
              "</style>\n",
              "<table border=\"1\" class=\"dataframe\">\n",
              "  <thead>\n",
              "    <tr style=\"text-align: right;\">\n",
              "      <th></th>\n",
              "      <th>type</th>\n",
              "      <th>source</th>\n",
              "      <th>unit</th>\n",
              "      <th>date</th>\n",
              "      <th>value1</th>\n",
              "      <th>value2</th>\n",
              "      <th>value3</th>\n",
              "    </tr>\n",
              "    <tr>\n",
              "      <th>id</th>\n",
              "      <th></th>\n",
              "      <th></th>\n",
              "      <th></th>\n",
              "      <th></th>\n",
              "      <th></th>\n",
              "      <th></th>\n",
              "      <th></th>\n",
              "    </tr>\n",
              "  </thead>\n",
              "  <tbody>\n",
              "    <tr>\n",
              "      <th>0</th>\n",
              "      <td>PM2.5</td>\n",
              "      <td>Stateair.mn</td>\n",
              "      <td>µg/m3</td>\n",
              "      <td>2015-12-12 06:00:00</td>\n",
              "      <td>NaN</td>\n",
              "      <td>NaN</td>\n",
              "      <td>NaN</td>\n",
              "    </tr>\n",
              "    <tr>\n",
              "      <th>1</th>\n",
              "      <td>PM2.5</td>\n",
              "      <td>Stateair.mn</td>\n",
              "      <td>µg/m3</td>\n",
              "      <td>2015-12-12 07:00:00</td>\n",
              "      <td>242.0</td>\n",
              "      <td>NaN</td>\n",
              "      <td>NaN</td>\n",
              "    </tr>\n",
              "    <tr>\n",
              "      <th>2</th>\n",
              "      <td>PM2.5</td>\n",
              "      <td>Stateair.mn</td>\n",
              "      <td>µg/m3</td>\n",
              "      <td>2015-12-12 08:00:00</td>\n",
              "      <td>244.0</td>\n",
              "      <td>242.0</td>\n",
              "      <td>NaN</td>\n",
              "    </tr>\n",
              "    <tr>\n",
              "      <th>3</th>\n",
              "      <td>PM2.5</td>\n",
              "      <td>Stateair.mn</td>\n",
              "      <td>µg/m3</td>\n",
              "      <td>2015-12-12 09:00:00</td>\n",
              "      <td>93.0</td>\n",
              "      <td>244.0</td>\n",
              "      <td>242.0</td>\n",
              "    </tr>\n",
              "    <tr>\n",
              "      <th>4</th>\n",
              "      <td>PM2.5</td>\n",
              "      <td>Stateair.mn</td>\n",
              "      <td>µg/m3</td>\n",
              "      <td>2015-12-12 10:00:00</td>\n",
              "      <td>53.0</td>\n",
              "      <td>93.0</td>\n",
              "      <td>244.0</td>\n",
              "    </tr>\n",
              "  </tbody>\n",
              "</table>\n",
              "</div>"
            ],
            "text/plain": [
              "     type       source   unit                 date  value1  value2  value3\n",
              "id                                                                        \n",
              "0   PM2.5  Stateair.mn  µg/m3  2015-12-12 06:00:00     NaN     NaN     NaN\n",
              "1   PM2.5  Stateair.mn  µg/m3  2015-12-12 07:00:00   242.0     NaN     NaN\n",
              "2   PM2.5  Stateair.mn  µg/m3  2015-12-12 08:00:00   244.0   242.0     NaN\n",
              "3   PM2.5  Stateair.mn  µg/m3  2015-12-12 09:00:00    93.0   244.0   242.0\n",
              "4   PM2.5  Stateair.mn  µg/m3  2015-12-12 10:00:00    53.0    93.0   244.0"
            ]
          },
          "metadata": {
            "tags": []
          },
          "execution_count": 244
        }
      ]
    },
    {
      "cell_type": "code",
      "metadata": {
        "id": "ihxBCTJ51yVT",
        "colab": {
          "base_uri": "https://localhost:8080/"
        },
        "outputId": "c6baba8e-518b-47da-c10e-2a9d251ca11b"
      },
      "source": [
        "X.dtypes"
      ],
      "execution_count": 245,
      "outputs": [
        {
          "output_type": "execute_result",
          "data": {
            "text/plain": [
              "type       object\n",
              "source     object\n",
              "unit       object\n",
              "date       object\n",
              "value1    float64\n",
              "value2    float64\n",
              "value3    float64\n",
              "dtype: object"
            ]
          },
          "metadata": {
            "tags": []
          },
          "execution_count": 245
        }
      ]
    },
    {
      "cell_type": "code",
      "metadata": {
        "colab": {
          "base_uri": "https://localhost:8080/"
        },
        "id": "tHlUSRp45omZ",
        "outputId": "ef850ed2-85ae-4f14-90ca-2aac6b181e57"
      },
      "source": [
        "X.type.unique()"
      ],
      "execution_count": 246,
      "outputs": [
        {
          "output_type": "execute_result",
          "data": {
            "text/plain": [
              "array(['PM2.5'], dtype=object)"
            ]
          },
          "metadata": {
            "tags": []
          },
          "execution_count": 246
        }
      ]
    },
    {
      "cell_type": "code",
      "metadata": {
        "id": "O9FwkSWd5oAk"
      },
      "source": [
        "X = X.drop(columns=['type', 'source', 'unit', 'date', 'value2', 'value3'])"
      ],
      "execution_count": 247,
      "outputs": []
    },
    {
      "cell_type": "code",
      "metadata": {
        "id": "BW7VTMON5-E7"
      },
      "source": [
        "test = test.drop(columns=['type', 'source', 'unit', 'date', 'value2', 'value3'])"
      ],
      "execution_count": 248,
      "outputs": []
    },
    {
      "cell_type": "markdown",
      "metadata": {
        "id": "M3J3JZ29DTyd"
      },
      "source": [
        "* Dropped value2 and value3 because they repeat and in the end gives back to many NaN values"
      ]
    },
    {
      "cell_type": "code",
      "metadata": {
        "id": "gzqtbIjB53dF"
      },
      "source": [
        "X['value1'] = X['value1'].replace(-999.0, np.nan)"
      ],
      "execution_count": 249,
      "outputs": []
    },
    {
      "cell_type": "code",
      "metadata": {
        "id": "TqA8QRyo5-yS"
      },
      "source": [
        "X = X.fillna(value=X.median())"
      ],
      "execution_count": 250,
      "outputs": []
    },
    {
      "cell_type": "code",
      "metadata": {
        "colab": {
          "base_uri": "https://localhost:8080/"
        },
        "id": "lRk66tIg6Ize",
        "outputId": "ba5c5c75-c6ed-4e3c-f841-fd01ad25e6b8"
      },
      "source": [
        "X.isnull().sum()"
      ],
      "execution_count": 251,
      "outputs": [
        {
          "output_type": "execute_result",
          "data": {
            "text/plain": [
              "value1    0\n",
              "dtype: int64"
            ]
          },
          "metadata": {
            "tags": []
          },
          "execution_count": 251
        }
      ]
    },
    {
      "cell_type": "code",
      "metadata": {
        "id": "wSn7QyYo6Phc"
      },
      "source": [
        "test['value1'] = test['value1'].replace(-999, np.nan)"
      ],
      "execution_count": 252,
      "outputs": []
    },
    {
      "cell_type": "code",
      "metadata": {
        "id": "51T9bygl6Z-a"
      },
      "source": [
        "test = test.fillna(value=test.median())"
      ],
      "execution_count": 253,
      "outputs": []
    },
    {
      "cell_type": "code",
      "metadata": {
        "colab": {
          "base_uri": "https://localhost:8080/"
        },
        "id": "Pcc0VAwm6euA",
        "outputId": "a2a04059-aed5-4c15-a72c-f703e415ccb2"
      },
      "source": [
        "test.isnull().sum()"
      ],
      "execution_count": 254,
      "outputs": [
        {
          "output_type": "execute_result",
          "data": {
            "text/plain": [
              "value1    0\n",
              "dtype: int64"
            ]
          },
          "metadata": {
            "tags": []
          },
          "execution_count": 254
        }
      ]
    },
    {
      "cell_type": "code",
      "metadata": {
        "colab": {
          "base_uri": "https://localhost:8080/",
          "height": 235
        },
        "id": "GDPB5mw96iUI",
        "outputId": "ca18f2d7-3de8-4de0-a1a6-4a142ab5589c"
      },
      "source": [
        "test.head()"
      ],
      "execution_count": 255,
      "outputs": [
        {
          "output_type": "execute_result",
          "data": {
            "text/html": [
              "<div>\n",
              "<style scoped>\n",
              "    .dataframe tbody tr th:only-of-type {\n",
              "        vertical-align: middle;\n",
              "    }\n",
              "\n",
              "    .dataframe tbody tr th {\n",
              "        vertical-align: top;\n",
              "    }\n",
              "\n",
              "    .dataframe thead th {\n",
              "        text-align: right;\n",
              "    }\n",
              "</style>\n",
              "<table border=\"1\" class=\"dataframe\">\n",
              "  <thead>\n",
              "    <tr style=\"text-align: right;\">\n",
              "      <th></th>\n",
              "      <th>value1</th>\n",
              "    </tr>\n",
              "    <tr>\n",
              "      <th>id</th>\n",
              "      <th></th>\n",
              "    </tr>\n",
              "  </thead>\n",
              "  <tbody>\n",
              "    <tr>\n",
              "      <th>21158</th>\n",
              "      <td>56.0</td>\n",
              "    </tr>\n",
              "    <tr>\n",
              "      <th>21159</th>\n",
              "      <td>23.0</td>\n",
              "    </tr>\n",
              "    <tr>\n",
              "      <th>21160</th>\n",
              "      <td>20.0</td>\n",
              "    </tr>\n",
              "    <tr>\n",
              "      <th>21161</th>\n",
              "      <td>17.0</td>\n",
              "    </tr>\n",
              "    <tr>\n",
              "      <th>21162</th>\n",
              "      <td>5.0</td>\n",
              "    </tr>\n",
              "  </tbody>\n",
              "</table>\n",
              "</div>"
            ],
            "text/plain": [
              "       value1\n",
              "id           \n",
              "21158    56.0\n",
              "21159    23.0\n",
              "21160    20.0\n",
              "21161    17.0\n",
              "21162     5.0"
            ]
          },
          "metadata": {
            "tags": []
          },
          "execution_count": 255
        }
      ]
    },
    {
      "cell_type": "code",
      "metadata": {
        "colab": {
          "base_uri": "https://localhost:8080/",
          "height": 394
        },
        "id": "JrCQKEEP8LF1",
        "outputId": "8f72afbf-0184-4db3-b960-e78a8fbe1466"
      },
      "source": [
        "weather.head()"
      ],
      "execution_count": 256,
      "outputs": [
        {
          "output_type": "execute_result",
          "data": {
            "text/html": [
              "<div>\n",
              "<style scoped>\n",
              "    .dataframe tbody tr th:only-of-type {\n",
              "        vertical-align: middle;\n",
              "    }\n",
              "\n",
              "    .dataframe tbody tr th {\n",
              "        vertical-align: top;\n",
              "    }\n",
              "\n",
              "    .dataframe thead th {\n",
              "        text-align: right;\n",
              "    }\n",
              "</style>\n",
              "<table border=\"1\" class=\"dataframe\">\n",
              "  <thead>\n",
              "    <tr style=\"text-align: right;\">\n",
              "      <th></th>\n",
              "      <th>time</th>\n",
              "      <th>summary</th>\n",
              "      <th>icon</th>\n",
              "      <th>precipIntensity</th>\n",
              "      <th>precipProbability</th>\n",
              "      <th>temperature</th>\n",
              "      <th>apparentTemperature</th>\n",
              "      <th>dewPoint</th>\n",
              "      <th>humidity</th>\n",
              "      <th>pressure</th>\n",
              "      <th>windSpeed</th>\n",
              "      <th>windGust</th>\n",
              "      <th>windGustTime</th>\n",
              "      <th>windBearing</th>\n",
              "      <th>cloudCover</th>\n",
              "      <th>uvIndex</th>\n",
              "      <th>visibility</th>\n",
              "      <th>ozone</th>\n",
              "      <th>precipType</th>\n",
              "      <th>precipAccumulation</th>\n",
              "    </tr>\n",
              "  </thead>\n",
              "  <tbody>\n",
              "    <tr>\n",
              "      <th>0</th>\n",
              "      <td>1.449850e+09</td>\n",
              "      <td>Partly Cloudy</td>\n",
              "      <td>partly-cloudy-night</td>\n",
              "      <td>0.0</td>\n",
              "      <td>0.0</td>\n",
              "      <td>-19.72</td>\n",
              "      <td>-19.72</td>\n",
              "      <td>-22.99</td>\n",
              "      <td>0.75</td>\n",
              "      <td>NaN</td>\n",
              "      <td>0.0</td>\n",
              "      <td>NaN</td>\n",
              "      <td>NaN</td>\n",
              "      <td>NaN</td>\n",
              "      <td>0.44</td>\n",
              "      <td>0.0</td>\n",
              "      <td>10.003</td>\n",
              "      <td>NaN</td>\n",
              "      <td>NaN</td>\n",
              "      <td>NaN</td>\n",
              "    </tr>\n",
              "    <tr>\n",
              "      <th>1</th>\n",
              "      <td>1.449853e+09</td>\n",
              "      <td>Partly Cloudy</td>\n",
              "      <td>partly-cloudy-night</td>\n",
              "      <td>0.0</td>\n",
              "      <td>0.0</td>\n",
              "      <td>-19.72</td>\n",
              "      <td>-19.72</td>\n",
              "      <td>-22.01</td>\n",
              "      <td>0.82</td>\n",
              "      <td>NaN</td>\n",
              "      <td>1.0</td>\n",
              "      <td>NaN</td>\n",
              "      <td>NaN</td>\n",
              "      <td>NaN</td>\n",
              "      <td>0.44</td>\n",
              "      <td>0.0</td>\n",
              "      <td>10.003</td>\n",
              "      <td>NaN</td>\n",
              "      <td>NaN</td>\n",
              "      <td>NaN</td>\n",
              "    </tr>\n",
              "    <tr>\n",
              "      <th>2</th>\n",
              "      <td>1.449857e+09</td>\n",
              "      <td>Partly Cloudy</td>\n",
              "      <td>partly-cloudy-night</td>\n",
              "      <td>0.0</td>\n",
              "      <td>0.0</td>\n",
              "      <td>-19.65</td>\n",
              "      <td>-19.65</td>\n",
              "      <td>-21.96</td>\n",
              "      <td>0.82</td>\n",
              "      <td>1041.1</td>\n",
              "      <td>0.0</td>\n",
              "      <td>NaN</td>\n",
              "      <td>NaN</td>\n",
              "      <td>NaN</td>\n",
              "      <td>0.35</td>\n",
              "      <td>0.0</td>\n",
              "      <td>10.003</td>\n",
              "      <td>NaN</td>\n",
              "      <td>NaN</td>\n",
              "      <td>NaN</td>\n",
              "    </tr>\n",
              "    <tr>\n",
              "      <th>3</th>\n",
              "      <td>1.449860e+09</td>\n",
              "      <td>Partly Cloudy</td>\n",
              "      <td>partly-cloudy-night</td>\n",
              "      <td>0.0</td>\n",
              "      <td>0.0</td>\n",
              "      <td>-19.72</td>\n",
              "      <td>-19.72</td>\n",
              "      <td>-22.01</td>\n",
              "      <td>0.82</td>\n",
              "      <td>NaN</td>\n",
              "      <td>0.0</td>\n",
              "      <td>NaN</td>\n",
              "      <td>NaN</td>\n",
              "      <td>NaN</td>\n",
              "      <td>0.44</td>\n",
              "      <td>0.0</td>\n",
              "      <td>8.005</td>\n",
              "      <td>NaN</td>\n",
              "      <td>NaN</td>\n",
              "      <td>NaN</td>\n",
              "    </tr>\n",
              "    <tr>\n",
              "      <th>4</th>\n",
              "      <td>1.449864e+09</td>\n",
              "      <td>Partly Cloudy</td>\n",
              "      <td>partly-cloudy-night</td>\n",
              "      <td>0.0</td>\n",
              "      <td>0.0</td>\n",
              "      <td>-19.72</td>\n",
              "      <td>-19.72</td>\n",
              "      <td>-22.01</td>\n",
              "      <td>0.82</td>\n",
              "      <td>NaN</td>\n",
              "      <td>0.0</td>\n",
              "      <td>NaN</td>\n",
              "      <td>NaN</td>\n",
              "      <td>NaN</td>\n",
              "      <td>0.44</td>\n",
              "      <td>0.0</td>\n",
              "      <td>6.004</td>\n",
              "      <td>NaN</td>\n",
              "      <td>NaN</td>\n",
              "      <td>NaN</td>\n",
              "    </tr>\n",
              "  </tbody>\n",
              "</table>\n",
              "</div>"
            ],
            "text/plain": [
              "           time        summary  ... precipType  precipAccumulation\n",
              "0  1.449850e+09  Partly Cloudy  ...        NaN                 NaN\n",
              "1  1.449853e+09  Partly Cloudy  ...        NaN                 NaN\n",
              "2  1.449857e+09  Partly Cloudy  ...        NaN                 NaN\n",
              "3  1.449860e+09  Partly Cloudy  ...        NaN                 NaN\n",
              "4  1.449864e+09  Partly Cloudy  ...        NaN                 NaN\n",
              "\n",
              "[5 rows x 20 columns]"
            ]
          },
          "metadata": {
            "tags": []
          },
          "execution_count": 256
        }
      ]
    },
    {
      "cell_type": "markdown",
      "metadata": {
        "id": "xbObszbCiLZP"
      },
      "source": [
        " Dropping Columns"
      ]
    },
    {
      "cell_type": "code",
      "metadata": {
        "id": "rBFIfWUU3vmP"
      },
      "source": [
        "weather = weather.drop(columns=['time', 'windGustTime', 'ozone', 'precipType', 'precipAccumulation'])"
      ],
      "execution_count": 257,
      "outputs": []
    },
    {
      "cell_type": "code",
      "metadata": {
        "id": "5fk3z8Gs-7VS"
      },
      "source": [
        "weather[weather.select_dtypes(['object']).columns] = weather.select_dtypes(['object']).fillna('null')"
      ],
      "execution_count": 258,
      "outputs": []
    },
    {
      "cell_type": "code",
      "metadata": {
        "id": "FXOTpoEQ8X8K"
      },
      "source": [
        "weather = weather.fillna(value=weather.median())"
      ],
      "execution_count": 259,
      "outputs": []
    },
    {
      "cell_type": "markdown",
      "metadata": {
        "id": "MRGq3J2lB93X"
      },
      "source": [
        "Merging dataframes into one data frame"
      ]
    },
    {
      "cell_type": "code",
      "metadata": {
        "id": "LvZRF9aH8qH7"
      },
      "source": [
        "X = pd.merge(left=X, right=weather, left_on=X.index, right_on=weather.index)"
      ],
      "execution_count": 260,
      "outputs": []
    },
    {
      "cell_type": "code",
      "metadata": {
        "id": "txwvPBOE8peD"
      },
      "source": [
        "test = pd.merge(left=test, right=weather, left_on=test.index, right_on=weather.index)"
      ],
      "execution_count": 261,
      "outputs": []
    },
    {
      "cell_type": "code",
      "metadata": {
        "colab": {
          "base_uri": "https://localhost:8080/",
          "height": 394
        },
        "id": "cLpDLd-Y9AYi",
        "outputId": "cce6d6f3-1b1d-417b-a84e-29d7a0a939d2"
      },
      "source": [
        "X.head()"
      ],
      "execution_count": 262,
      "outputs": [
        {
          "output_type": "execute_result",
          "data": {
            "text/html": [
              "<div>\n",
              "<style scoped>\n",
              "    .dataframe tbody tr th:only-of-type {\n",
              "        vertical-align: middle;\n",
              "    }\n",
              "\n",
              "    .dataframe tbody tr th {\n",
              "        vertical-align: top;\n",
              "    }\n",
              "\n",
              "    .dataframe thead th {\n",
              "        text-align: right;\n",
              "    }\n",
              "</style>\n",
              "<table border=\"1\" class=\"dataframe\">\n",
              "  <thead>\n",
              "    <tr style=\"text-align: right;\">\n",
              "      <th></th>\n",
              "      <th>key_0</th>\n",
              "      <th>value1</th>\n",
              "      <th>summary</th>\n",
              "      <th>icon</th>\n",
              "      <th>precipIntensity</th>\n",
              "      <th>precipProbability</th>\n",
              "      <th>temperature</th>\n",
              "      <th>apparentTemperature</th>\n",
              "      <th>dewPoint</th>\n",
              "      <th>humidity</th>\n",
              "      <th>pressure</th>\n",
              "      <th>windSpeed</th>\n",
              "      <th>windGust</th>\n",
              "      <th>windBearing</th>\n",
              "      <th>cloudCover</th>\n",
              "      <th>uvIndex</th>\n",
              "      <th>visibility</th>\n",
              "    </tr>\n",
              "  </thead>\n",
              "  <tbody>\n",
              "    <tr>\n",
              "      <th>0</th>\n",
              "      <td>0</td>\n",
              "      <td>23.0</td>\n",
              "      <td>Partly Cloudy</td>\n",
              "      <td>partly-cloudy-night</td>\n",
              "      <td>0.0</td>\n",
              "      <td>0.0</td>\n",
              "      <td>-19.72</td>\n",
              "      <td>-19.72</td>\n",
              "      <td>-22.99</td>\n",
              "      <td>0.75</td>\n",
              "      <td>1023.4</td>\n",
              "      <td>0.0</td>\n",
              "      <td>3.56</td>\n",
              "      <td>221.0</td>\n",
              "      <td>0.44</td>\n",
              "      <td>0.0</td>\n",
              "      <td>10.003</td>\n",
              "    </tr>\n",
              "    <tr>\n",
              "      <th>1</th>\n",
              "      <td>1</td>\n",
              "      <td>242.0</td>\n",
              "      <td>Partly Cloudy</td>\n",
              "      <td>partly-cloudy-night</td>\n",
              "      <td>0.0</td>\n",
              "      <td>0.0</td>\n",
              "      <td>-19.72</td>\n",
              "      <td>-19.72</td>\n",
              "      <td>-22.01</td>\n",
              "      <td>0.82</td>\n",
              "      <td>1023.4</td>\n",
              "      <td>1.0</td>\n",
              "      <td>3.56</td>\n",
              "      <td>221.0</td>\n",
              "      <td>0.44</td>\n",
              "      <td>0.0</td>\n",
              "      <td>10.003</td>\n",
              "    </tr>\n",
              "    <tr>\n",
              "      <th>2</th>\n",
              "      <td>2</td>\n",
              "      <td>244.0</td>\n",
              "      <td>Partly Cloudy</td>\n",
              "      <td>partly-cloudy-night</td>\n",
              "      <td>0.0</td>\n",
              "      <td>0.0</td>\n",
              "      <td>-19.65</td>\n",
              "      <td>-19.65</td>\n",
              "      <td>-21.96</td>\n",
              "      <td>0.82</td>\n",
              "      <td>1041.1</td>\n",
              "      <td>0.0</td>\n",
              "      <td>3.56</td>\n",
              "      <td>221.0</td>\n",
              "      <td>0.35</td>\n",
              "      <td>0.0</td>\n",
              "      <td>10.003</td>\n",
              "    </tr>\n",
              "    <tr>\n",
              "      <th>3</th>\n",
              "      <td>3</td>\n",
              "      <td>93.0</td>\n",
              "      <td>Partly Cloudy</td>\n",
              "      <td>partly-cloudy-night</td>\n",
              "      <td>0.0</td>\n",
              "      <td>0.0</td>\n",
              "      <td>-19.72</td>\n",
              "      <td>-19.72</td>\n",
              "      <td>-22.01</td>\n",
              "      <td>0.82</td>\n",
              "      <td>1023.4</td>\n",
              "      <td>0.0</td>\n",
              "      <td>3.56</td>\n",
              "      <td>221.0</td>\n",
              "      <td>0.44</td>\n",
              "      <td>0.0</td>\n",
              "      <td>8.005</td>\n",
              "    </tr>\n",
              "    <tr>\n",
              "      <th>4</th>\n",
              "      <td>4</td>\n",
              "      <td>53.0</td>\n",
              "      <td>Partly Cloudy</td>\n",
              "      <td>partly-cloudy-night</td>\n",
              "      <td>0.0</td>\n",
              "      <td>0.0</td>\n",
              "      <td>-19.72</td>\n",
              "      <td>-19.72</td>\n",
              "      <td>-22.01</td>\n",
              "      <td>0.82</td>\n",
              "      <td>1023.4</td>\n",
              "      <td>0.0</td>\n",
              "      <td>3.56</td>\n",
              "      <td>221.0</td>\n",
              "      <td>0.44</td>\n",
              "      <td>0.0</td>\n",
              "      <td>6.004</td>\n",
              "    </tr>\n",
              "  </tbody>\n",
              "</table>\n",
              "</div>"
            ],
            "text/plain": [
              "   key_0  value1        summary  ... cloudCover  uvIndex  visibility\n",
              "0      0    23.0  Partly Cloudy  ...       0.44      0.0      10.003\n",
              "1      1   242.0  Partly Cloudy  ...       0.44      0.0      10.003\n",
              "2      2   244.0  Partly Cloudy  ...       0.35      0.0      10.003\n",
              "3      3    93.0  Partly Cloudy  ...       0.44      0.0       8.005\n",
              "4      4    53.0  Partly Cloudy  ...       0.44      0.0       6.004\n",
              "\n",
              "[5 rows x 17 columns]"
            ]
          },
          "metadata": {
            "tags": []
          },
          "execution_count": 262
        }
      ]
    },
    {
      "cell_type": "markdown",
      "metadata": {
        "id": "QGVLAwn9CHGV"
      },
      "source": [
        "One Hot"
      ]
    },
    {
      "cell_type": "code",
      "metadata": {
        "id": "cXviAki1_d6w"
      },
      "source": [
        "enc = OneHotEncoder(handle_unknown='ignore')"
      ],
      "execution_count": 263,
      "outputs": []
    },
    {
      "cell_type": "code",
      "metadata": {
        "id": "z9qQqpO3_pmK"
      },
      "source": [
        "X_cat_enc = pd.DataFrame(enc.fit_transform(X.select_dtypes('object')).toarray())"
      ],
      "execution_count": 264,
      "outputs": []
    },
    {
      "cell_type": "code",
      "metadata": {
        "id": "xshcXq0S_pbO"
      },
      "source": [
        "test_cat_enc = pd.DataFrame(enc.transform(test.select_dtypes('object')).toarray())"
      ],
      "execution_count": 265,
      "outputs": []
    },
    {
      "cell_type": "code",
      "metadata": {
        "id": "HqF4gZF7_drb"
      },
      "source": [
        "X = X.drop(columns=['summary', 'icon']).join(X_cat_enc)"
      ],
      "execution_count": 266,
      "outputs": []
    },
    {
      "cell_type": "code",
      "metadata": {
        "id": "6rpfwg8e_dUD"
      },
      "source": [
        "test = test.drop(columns=['summary', 'icon']).join(test_cat_enc)"
      ],
      "execution_count": 267,
      "outputs": []
    },
    {
      "cell_type": "code",
      "metadata": {
        "id": "b5_VOKYE9Gmy"
      },
      "source": [
        "X_train, X_test, y_train, y_test = model_selection.train_test_split(X, y, test_size=.3, random_state=40)"
      ],
      "execution_count": 268,
      "outputs": []
    },
    {
      "cell_type": "markdown",
      "metadata": {
        "id": "rs2XfJJV5XOt"
      },
      "source": [
        "Splitting Data"
      ]
    },
    {
      "cell_type": "code",
      "metadata": {
        "id": "5o6BymPeRxM8"
      },
      "source": [
        "X_train, X_test, y_train, y_test = model_selection.train_test_split(X, y, test_size=.3, random_state=40)"
      ],
      "execution_count": 269,
      "outputs": []
    },
    {
      "cell_type": "markdown",
      "metadata": {
        "id": "S_GcRqF9CQsf"
      },
      "source": [
        "Random Forest Regressor"
      ]
    },
    {
      "cell_type": "code",
      "metadata": {
        "id": "OkztBgNHz45N"
      },
      "source": [
        "rf = ensemble.RandomForestRegressor(max_features=7, n_estimators=200, n_jobs=-1, random_state=40)"
      ],
      "execution_count": 270,
      "outputs": []
    },
    {
      "cell_type": "code",
      "metadata": {
        "colab": {
          "base_uri": "https://localhost:8080/"
        },
        "id": "8Ae6Wk-Dz5AO",
        "outputId": "c72438fd-d984-4ec7-e7d4-adf0ec6e9a2f"
      },
      "source": [
        "rf.fit(X_train, np.ravel(y_train))"
      ],
      "execution_count": 271,
      "outputs": [
        {
          "output_type": "execute_result",
          "data": {
            "text/plain": [
              "RandomForestRegressor(bootstrap=True, ccp_alpha=0.0, criterion='mse',\n",
              "                      max_depth=None, max_features=7, max_leaf_nodes=None,\n",
              "                      max_samples=None, min_impurity_decrease=0.0,\n",
              "                      min_impurity_split=None, min_samples_leaf=1,\n",
              "                      min_samples_split=2, min_weight_fraction_leaf=0.0,\n",
              "                      n_estimators=200, n_jobs=-1, oob_score=False,\n",
              "                      random_state=40, verbose=0, warm_start=False)"
            ]
          },
          "metadata": {
            "tags": []
          },
          "execution_count": 271
        }
      ]
    },
    {
      "cell_type": "code",
      "metadata": {
        "id": "xpNJG43192sd"
      },
      "source": [
        "rf_pred = rf.predict(X_test)"
      ],
      "execution_count": 272,
      "outputs": []
    },
    {
      "cell_type": "code",
      "metadata": {
        "colab": {
          "base_uri": "https://localhost:8080/"
        },
        "id": "HRGAio0C92lc",
        "outputId": "7f62d935-9cac-4a0d-f287-ea4f322f8857"
      },
      "source": [
        "np.sqrt(metrics.mean_squared_error(y_test, rf_pred))"
      ],
      "execution_count": 273,
      "outputs": [
        {
          "output_type": "execute_result",
          "data": {
            "text/plain": [
              "198.86024026823773"
            ]
          },
          "metadata": {
            "tags": []
          },
          "execution_count": 273
        }
      ]
    },
    {
      "cell_type": "markdown",
      "metadata": {
        "id": "8Lw5aNgbCU8N"
      },
      "source": [
        "Making Predictions"
      ]
    },
    {
      "cell_type": "code",
      "metadata": {
        "id": "QvC_JJd092a7"
      },
      "source": [
        "prediction = rf.predict(test)"
      ],
      "execution_count": 274,
      "outputs": []
    },
    {
      "cell_type": "code",
      "metadata": {
        "id": "3SxMEzHl92LM"
      },
      "source": [
        "prediction = pd.DataFrame(prediction, index=test.key_0, columns=['value'])"
      ],
      "execution_count": 275,
      "outputs": []
    },
    {
      "cell_type": "code",
      "metadata": {
        "id": "-EON0sGA-Kim"
      },
      "source": [
        "prediction.to_csv('prediction.csv', index=True)"
      ],
      "execution_count": 276,
      "outputs": []
    },
    {
      "cell_type": "code",
      "metadata": {
        "colab": {
          "base_uri": "https://localhost:8080/",
          "height": 450
        },
        "id": "BBO0i544-Ka9",
        "outputId": "5ff9cd6a-d5b1-45f6-d4a9-e6051c058a11"
      },
      "source": [
        "prediction"
      ],
      "execution_count": 277,
      "outputs": [
        {
          "output_type": "execute_result",
          "data": {
            "text/html": [
              "<div>\n",
              "<style scoped>\n",
              "    .dataframe tbody tr th:only-of-type {\n",
              "        vertical-align: middle;\n",
              "    }\n",
              "\n",
              "    .dataframe tbody tr th {\n",
              "        vertical-align: top;\n",
              "    }\n",
              "\n",
              "    .dataframe thead th {\n",
              "        text-align: right;\n",
              "    }\n",
              "</style>\n",
              "<table border=\"1\" class=\"dataframe\">\n",
              "  <thead>\n",
              "    <tr style=\"text-align: right;\">\n",
              "      <th></th>\n",
              "      <th>value</th>\n",
              "    </tr>\n",
              "    <tr>\n",
              "      <th>key_0</th>\n",
              "      <th></th>\n",
              "    </tr>\n",
              "  </thead>\n",
              "  <tbody>\n",
              "    <tr>\n",
              "      <th>21158</th>\n",
              "      <td>24.1050</td>\n",
              "    </tr>\n",
              "    <tr>\n",
              "      <th>21159</th>\n",
              "      <td>-349.8200</td>\n",
              "    </tr>\n",
              "    <tr>\n",
              "      <th>21160</th>\n",
              "      <td>11.3600</td>\n",
              "    </tr>\n",
              "    <tr>\n",
              "      <th>21161</th>\n",
              "      <td>23.0800</td>\n",
              "    </tr>\n",
              "    <tr>\n",
              "      <th>21162</th>\n",
              "      <td>-27.0500</td>\n",
              "    </tr>\n",
              "    <tr>\n",
              "      <th>...</th>\n",
              "      <td>...</td>\n",
              "    </tr>\n",
              "    <tr>\n",
              "      <th>25689</th>\n",
              "      <td>-106.5510</td>\n",
              "    </tr>\n",
              "    <tr>\n",
              "      <th>25690</th>\n",
              "      <td>-134.0990</td>\n",
              "    </tr>\n",
              "    <tr>\n",
              "      <th>25691</th>\n",
              "      <td>-101.9950</td>\n",
              "    </tr>\n",
              "    <tr>\n",
              "      <th>25692</th>\n",
              "      <td>-91.2950</td>\n",
              "    </tr>\n",
              "    <tr>\n",
              "      <th>25693</th>\n",
              "      <td>-10.5965</td>\n",
              "    </tr>\n",
              "  </tbody>\n",
              "</table>\n",
              "<p>4536 rows × 1 columns</p>\n",
              "</div>"
            ],
            "text/plain": [
              "          value\n",
              "key_0          \n",
              "21158   24.1050\n",
              "21159 -349.8200\n",
              "21160   11.3600\n",
              "21161   23.0800\n",
              "21162  -27.0500\n",
              "...         ...\n",
              "25689 -106.5510\n",
              "25690 -134.0990\n",
              "25691 -101.9950\n",
              "25692  -91.2950\n",
              "25693  -10.5965\n",
              "\n",
              "[4536 rows x 1 columns]"
            ]
          },
          "metadata": {
            "tags": []
          },
          "execution_count": 277
        }
      ]
    }
  ]
}