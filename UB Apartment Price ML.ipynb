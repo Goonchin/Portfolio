{
 "cells": [
  {
   "cell_type": "markdown",
   "metadata": {
    "id": "bpb6_WEOf5TI"
   },
   "source": [
    "UB Apartment Price Prediction\n",
    "\n",
    "Chinguun Batsaikhan\n"
   ]
  },
  {
   "cell_type": "markdown",
   "metadata": {
    "id": "IwioHc7rgM-8"
   },
   "source": [
    "1: Importing Conda Packages\n"
   ]
  },
  {
   "cell_type": "code",
   "execution_count": 455,
   "metadata": {
    "id": "z2CaZxT9gSJp"
   },
   "outputs": [],
   "source": [
    "import pandas as pd\n",
    "import matplotlib as mpl\n",
    "import matplotlib.pyplot as plt\n",
    "import numpy as np\n",
    "from sklearn import *\n",
    "\n",
    "%matplotlib inline"
   ]
  },
  {
   "cell_type": "markdown",
   "metadata": {
    "id": "7PdTbyu6gf_C"
   },
   "source": [
    "2: Importing The Data"
   ]
  },
  {
   "cell_type": "code",
   "execution_count": 456,
   "metadata": {
    "id": "KnBffDKggj_3"
   },
   "outputs": [],
   "source": [
    "df1 = pd.read_csv('/content/drive/MyDrive/Pset2/X.csv') "
   ]
  },
  {
   "cell_type": "code",
   "execution_count": 457,
   "metadata": {
    "colab": {
     "base_uri": "https://localhost:8080/",
     "height": 309
    },
    "id": "hvdxi3VxgsE8",
    "outputId": "5ccd8d94-2ed3-4db4-a5fe-54130ceacbd5"
   },
   "outputs": [
    {
     "data": {
      "text/html": [
       "<div>\n",
       "<style scoped>\n",
       "    .dataframe tbody tr th:only-of-type {\n",
       "        vertical-align: middle;\n",
       "    }\n",
       "\n",
       "    .dataframe tbody tr th {\n",
       "        vertical-align: top;\n",
       "    }\n",
       "\n",
       "    .dataframe thead th {\n",
       "        text-align: right;\n",
       "    }\n",
       "</style>\n",
       "<table border=\"1\" class=\"dataframe\">\n",
       "  <thead>\n",
       "    <tr style=\"text-align: right;\">\n",
       "      <th></th>\n",
       "      <th>rooms</th>\n",
       "      <th>year_built</th>\n",
       "      <th>location</th>\n",
       "      <th>building_floor_num</th>\n",
       "      <th>garage</th>\n",
       "      <th>district</th>\n",
       "      <th>leasing</th>\n",
       "      <th>balcony</th>\n",
       "      <th>size_meters</th>\n",
       "      <th>door_type</th>\n",
       "      <th>apartment_floor_num</th>\n",
       "      <th>window_type</th>\n",
       "      <th>num_windows</th>\n",
       "      <th>floor_type</th>\n",
       "    </tr>\n",
       "  </thead>\n",
       "  <tbody>\n",
       "    <tr>\n",
       "      <th>0</th>\n",
       "      <td>5+ өрөө</td>\n",
       "      <td>2010</td>\n",
       "      <td>Зайсан</td>\n",
       "      <td>14</td>\n",
       "      <td>Байгаа</td>\n",
       "      <td>Хан-Уул</td>\n",
       "      <td>Лизинггүй</td>\n",
       "      <td>2 тагттай</td>\n",
       "      <td>105.50</td>\n",
       "      <td>Төмөр вакум</td>\n",
       "      <td>5</td>\n",
       "      <td>Модон вакум</td>\n",
       "      <td>5</td>\n",
       "      <td>Паркет</td>\n",
       "    </tr>\n",
       "    <tr>\n",
       "      <th>1</th>\n",
       "      <td>2 өрөө</td>\n",
       "      <td>2019</td>\n",
       "      <td>Нисэх</td>\n",
       "      <td>12</td>\n",
       "      <td>Байгаа</td>\n",
       "      <td>Хан-Уул</td>\n",
       "      <td>Хувь лизингтэй</td>\n",
       "      <td>1 тагттай</td>\n",
       "      <td>61.00</td>\n",
       "      <td>Төмөр</td>\n",
       "      <td>6</td>\n",
       "      <td>Вакум</td>\n",
       "      <td>3</td>\n",
       "      <td>Паркет</td>\n",
       "    </tr>\n",
       "    <tr>\n",
       "      <th>2</th>\n",
       "      <td>2 өрөө</td>\n",
       "      <td>2017</td>\n",
       "      <td>Бусад</td>\n",
       "      <td>16</td>\n",
       "      <td>Байгаа</td>\n",
       "      <td>Баянзүрх</td>\n",
       "      <td>Банкны лизингтэй</td>\n",
       "      <td>1 тагттай</td>\n",
       "      <td>42.30</td>\n",
       "      <td>Вакум</td>\n",
       "      <td>9</td>\n",
       "      <td>Вакум</td>\n",
       "      <td>2</td>\n",
       "      <td>Паркет</td>\n",
       "    </tr>\n",
       "    <tr>\n",
       "      <th>3</th>\n",
       "      <td>2 өрөө</td>\n",
       "      <td>2009</td>\n",
       "      <td>25-р эмийн сан</td>\n",
       "      <td>6</td>\n",
       "      <td>Байгаа</td>\n",
       "      <td>Баянгол</td>\n",
       "      <td>Лизинггүй</td>\n",
       "      <td>1 тагттай</td>\n",
       "      <td>59.19</td>\n",
       "      <td>Бүргэд</td>\n",
       "      <td>2</td>\n",
       "      <td>Вакум</td>\n",
       "      <td>4</td>\n",
       "      <td>Паркет</td>\n",
       "    </tr>\n",
       "    <tr>\n",
       "      <th>4</th>\n",
       "      <td>2 өрөө</td>\n",
       "      <td>1994</td>\n",
       "      <td>21-р хороолол</td>\n",
       "      <td>5</td>\n",
       "      <td>Байхгүй</td>\n",
       "      <td>Сонгино Хайрхан</td>\n",
       "      <td>Лизинггүй</td>\n",
       "      <td>1 тагттай</td>\n",
       "      <td>56.00</td>\n",
       "      <td>Бүргэд</td>\n",
       "      <td>1</td>\n",
       "      <td>Вакум</td>\n",
       "      <td>3</td>\n",
       "      <td>Цемент</td>\n",
       "    </tr>\n",
       "  </tbody>\n",
       "</table>\n",
       "</div>"
      ],
      "text/plain": [
       "     rooms  year_built        location  ...  window_type num_windows floor_type\n",
       "0  5+ өрөө        2010          Зайсан  ...  Модон вакум           5     Паркет\n",
       "1   2 өрөө        2019           Нисэх  ...        Вакум           3     Паркет\n",
       "2   2 өрөө        2017           Бусад  ...        Вакум           2     Паркет\n",
       "3   2 өрөө        2009  25-р эмийн сан  ...        Вакум           4     Паркет\n",
       "4   2 өрөө        1994   21-р хороолол  ...        Вакум           3     Цемент\n",
       "\n",
       "[5 rows x 14 columns]"
      ]
     },
     "execution_count": 457,
     "metadata": {
      "tags": []
     },
     "output_type": "execute_result"
    }
   ],
   "source": [
    "df1.head()"
   ]
  },
  {
   "cell_type": "code",
   "execution_count": 458,
   "metadata": {
    "id": "FPr4Mwoek_kM"
   },
   "outputs": [],
   "source": [
    "df2 = pd.read_csv('/content/drive/MyDrive/Pset2/y.csv')"
   ]
  },
  {
   "cell_type": "code",
   "execution_count": 459,
   "metadata": {
    "colab": {
     "base_uri": "https://localhost:8080/",
     "height": 204
    },
    "id": "SUfCuiiVlRt_",
    "outputId": "0f8883e8-9928-45bf-ad9b-83b1a7d7da80"
   },
   "outputs": [
    {
     "data": {
      "text/html": [
       "<div>\n",
       "<style scoped>\n",
       "    .dataframe tbody tr th:only-of-type {\n",
       "        vertical-align: middle;\n",
       "    }\n",
       "\n",
       "    .dataframe tbody tr th {\n",
       "        vertical-align: top;\n",
       "    }\n",
       "\n",
       "    .dataframe thead th {\n",
       "        text-align: right;\n",
       "    }\n",
       "</style>\n",
       "<table border=\"1\" class=\"dataframe\">\n",
       "  <thead>\n",
       "    <tr style=\"text-align: right;\">\n",
       "      <th></th>\n",
       "      <th>price</th>\n",
       "    </tr>\n",
       "  </thead>\n",
       "  <tbody>\n",
       "    <tr>\n",
       "      <th>0</th>\n",
       "      <td>2.654028e+06</td>\n",
       "    </tr>\n",
       "    <tr>\n",
       "      <th>1</th>\n",
       "      <td>1.737705e+06</td>\n",
       "    </tr>\n",
       "    <tr>\n",
       "      <th>2</th>\n",
       "      <td>1.773050e+06</td>\n",
       "    </tr>\n",
       "    <tr>\n",
       "      <th>3</th>\n",
       "      <td>1.520527e+06</td>\n",
       "    </tr>\n",
       "    <tr>\n",
       "      <th>4</th>\n",
       "      <td>1.107143e+06</td>\n",
       "    </tr>\n",
       "  </tbody>\n",
       "</table>\n",
       "</div>"
      ],
      "text/plain": [
       "          price\n",
       "0  2.654028e+06\n",
       "1  1.737705e+06\n",
       "2  1.773050e+06\n",
       "3  1.520527e+06\n",
       "4  1.107143e+06"
      ]
     },
     "execution_count": 459,
     "metadata": {
      "tags": []
     },
     "output_type": "execute_result"
    }
   ],
   "source": [
    "df2.head()"
   ]
  },
  {
   "cell_type": "code",
   "execution_count": 460,
   "metadata": {
    "id": "Gw1E137FlTnP"
   },
   "outputs": [],
   "source": [
    "testdf = pd.read_csv('/content/drive/MyDrive/Pset2/test.csv', index_col='id')"
   ]
  },
  {
   "cell_type": "code",
   "execution_count": 461,
   "metadata": {
    "colab": {
     "base_uri": "https://localhost:8080/",
     "height": 340
    },
    "id": "83qwT4-FlXV3",
    "outputId": "7527b427-afbc-46a2-9df4-31f9c6ade705"
   },
   "outputs": [
    {
     "data": {
      "text/html": [
       "<div>\n",
       "<style scoped>\n",
       "    .dataframe tbody tr th:only-of-type {\n",
       "        vertical-align: middle;\n",
       "    }\n",
       "\n",
       "    .dataframe tbody tr th {\n",
       "        vertical-align: top;\n",
       "    }\n",
       "\n",
       "    .dataframe thead th {\n",
       "        text-align: right;\n",
       "    }\n",
       "</style>\n",
       "<table border=\"1\" class=\"dataframe\">\n",
       "  <thead>\n",
       "    <tr style=\"text-align: right;\">\n",
       "      <th></th>\n",
       "      <th>rooms</th>\n",
       "      <th>year_built</th>\n",
       "      <th>location</th>\n",
       "      <th>building_floor_num</th>\n",
       "      <th>garage</th>\n",
       "      <th>district</th>\n",
       "      <th>leasing</th>\n",
       "      <th>balcony</th>\n",
       "      <th>size_meters</th>\n",
       "      <th>door_type</th>\n",
       "      <th>apartment_floor_num</th>\n",
       "      <th>window_type</th>\n",
       "      <th>num_windows</th>\n",
       "      <th>floor_type</th>\n",
       "    </tr>\n",
       "    <tr>\n",
       "      <th>id</th>\n",
       "      <th></th>\n",
       "      <th></th>\n",
       "      <th></th>\n",
       "      <th></th>\n",
       "      <th></th>\n",
       "      <th></th>\n",
       "      <th></th>\n",
       "      <th></th>\n",
       "      <th></th>\n",
       "      <th></th>\n",
       "      <th></th>\n",
       "      <th></th>\n",
       "      <th></th>\n",
       "      <th></th>\n",
       "    </tr>\n",
       "  </thead>\n",
       "  <tbody>\n",
       "    <tr>\n",
       "      <th>3901</th>\n",
       "      <td>2 өрөө</td>\n",
       "      <td>2019</td>\n",
       "      <td>100 айл</td>\n",
       "      <td>12</td>\n",
       "      <td>Байхгүй</td>\n",
       "      <td>Сүхбаатар</td>\n",
       "      <td>Лизинггүй</td>\n",
       "      <td>1 тагттай</td>\n",
       "      <td>38.0</td>\n",
       "      <td>Бүргэд</td>\n",
       "      <td>3</td>\n",
       "      <td>Вакум</td>\n",
       "      <td>2</td>\n",
       "      <td>Паркет</td>\n",
       "    </tr>\n",
       "    <tr>\n",
       "      <th>353</th>\n",
       "      <td>2 өрөө</td>\n",
       "      <td>2019</td>\n",
       "      <td>15-р хороолол</td>\n",
       "      <td>16</td>\n",
       "      <td>Байхгүй</td>\n",
       "      <td>Баянзүрх</td>\n",
       "      <td>Лизинггүй</td>\n",
       "      <td>1 тагттай</td>\n",
       "      <td>51.0</td>\n",
       "      <td>Бүргэд</td>\n",
       "      <td>3</td>\n",
       "      <td>Вакум</td>\n",
       "      <td>2</td>\n",
       "      <td>Паркет</td>\n",
       "    </tr>\n",
       "    <tr>\n",
       "      <th>2978</th>\n",
       "      <td>1 өрөө</td>\n",
       "      <td>1980</td>\n",
       "      <td>3, 4 хороолол</td>\n",
       "      <td>9</td>\n",
       "      <td>Байхгүй</td>\n",
       "      <td>Баянгол</td>\n",
       "      <td>Лизинггүй</td>\n",
       "      <td>1 тагттай</td>\n",
       "      <td>36.6</td>\n",
       "      <td>Бүргэд</td>\n",
       "      <td>8</td>\n",
       "      <td>Вакум</td>\n",
       "      <td>2</td>\n",
       "      <td>Паркет</td>\n",
       "    </tr>\n",
       "    <tr>\n",
       "      <th>1197</th>\n",
       "      <td>1 өрөө</td>\n",
       "      <td>2010</td>\n",
       "      <td>Баянбүрд</td>\n",
       "      <td>10</td>\n",
       "      <td>Байхгүй</td>\n",
       "      <td>Чингэлтэй</td>\n",
       "      <td>Лизинггүй</td>\n",
       "      <td>1 тагттай</td>\n",
       "      <td>29.0</td>\n",
       "      <td>Бүргэд</td>\n",
       "      <td>5</td>\n",
       "      <td>Вакум</td>\n",
       "      <td>1</td>\n",
       "      <td>Паркет</td>\n",
       "    </tr>\n",
       "    <tr>\n",
       "      <th>2121</th>\n",
       "      <td>2 өрөө</td>\n",
       "      <td>2017</td>\n",
       "      <td>Зайсан</td>\n",
       "      <td>9</td>\n",
       "      <td>Байхгүй</td>\n",
       "      <td>Хан-Уул</td>\n",
       "      <td>Лизинггүй</td>\n",
       "      <td>1 тагттай</td>\n",
       "      <td>101.0</td>\n",
       "      <td>Бүргэд</td>\n",
       "      <td>8</td>\n",
       "      <td>Вакум</td>\n",
       "      <td>3</td>\n",
       "      <td>Паркет</td>\n",
       "    </tr>\n",
       "  </tbody>\n",
       "</table>\n",
       "</div>"
      ],
      "text/plain": [
       "       rooms  year_built       location  ...  window_type num_windows floor_type\n",
       "id                                       ...                                    \n",
       "3901  2 өрөө        2019        100 айл  ...        Вакум           2     Паркет\n",
       "353   2 өрөө        2019  15-р хороолол  ...        Вакум           2     Паркет\n",
       "2978  1 өрөө        1980  3, 4 хороолол  ...        Вакум           2     Паркет\n",
       "1197  1 өрөө        2010       Баянбүрд  ...        Вакум           1     Паркет\n",
       "2121  2 өрөө        2017         Зайсан  ...        Вакум           3     Паркет\n",
       "\n",
       "[5 rows x 14 columns]"
      ]
     },
     "execution_count": 461,
     "metadata": {
      "tags": []
     },
     "output_type": "execute_result"
    }
   ],
   "source": [
    "testdf.head()"
   ]
  },
  {
   "cell_type": "markdown",
   "metadata": {
    "id": "8aafHMQXmD5V"
   },
   "source": [
    "3: Data Cleaning"
   ]
  },
  {
   "cell_type": "code",
   "execution_count": 462,
   "metadata": {
    "colab": {
     "base_uri": "https://localhost:8080/"
    },
    "id": "MWXI9K7nmFnT",
    "outputId": "d727c85c-167a-4111-e07f-770b0cd07db2"
   },
   "outputs": [
    {
     "data": {
      "text/plain": [
       "rooms                   object\n",
       "year_built               int64\n",
       "location                object\n",
       "building_floor_num       int64\n",
       "garage                  object\n",
       "district                object\n",
       "leasing                 object\n",
       "balcony                 object\n",
       "size_meters            float64\n",
       "door_type               object\n",
       "apartment_floor_num      int64\n",
       "window_type             object\n",
       "num_windows              int64\n",
       "floor_type              object\n",
       "dtype: object"
      ]
     },
     "execution_count": 462,
     "metadata": {
      "tags": []
     },
     "output_type": "execute_result"
    }
   ],
   "source": [
    "df1.dtypes"
   ]
  },
  {
   "cell_type": "code",
   "execution_count": 463,
   "metadata": {
    "colab": {
     "base_uri": "https://localhost:8080/"
    },
    "id": "2NKzja-1mLC0",
    "outputId": "79288265-6dd4-4d96-8598-21f8a46f7e3a"
   },
   "outputs": [
    {
     "data": {
      "text/plain": [
       "price    float64\n",
       "dtype: object"
      ]
     },
     "execution_count": 463,
     "metadata": {
      "tags": []
     },
     "output_type": "execute_result"
    }
   ],
   "source": [
    "df2.dtypes"
   ]
  },
  {
   "cell_type": "code",
   "execution_count": 464,
   "metadata": {
    "colab": {
     "base_uri": "https://localhost:8080/"
    },
    "id": "Smix5RXZmUQ-",
    "outputId": "7615b951-6de5-4001-a228-a20b70ea44a6"
   },
   "outputs": [
    {
     "data": {
      "text/plain": [
       "rooms                   object\n",
       "year_built               int64\n",
       "location                object\n",
       "building_floor_num       int64\n",
       "garage                  object\n",
       "district                object\n",
       "leasing                 object\n",
       "balcony                 object\n",
       "size_meters            float64\n",
       "door_type               object\n",
       "apartment_floor_num      int64\n",
       "window_type             object\n",
       "num_windows              int64\n",
       "floor_type              object\n",
       "dtype: object"
      ]
     },
     "execution_count": 464,
     "metadata": {
      "tags": []
     },
     "output_type": "execute_result"
    }
   ],
   "source": [
    "testdf.dtypes"
   ]
  },
  {
   "cell_type": "code",
   "execution_count": 465,
   "metadata": {
    "id": "YOY32wMEHgG3"
   },
   "outputs": [],
   "source": [
    "df1.dtypes\n",
    "for x in df1:\n",
    "    if df1[x].dtypes == \"object\":\n",
    "        df1[x] = df1[x].astype('category')"
   ]
  },
  {
   "cell_type": "code",
   "execution_count": 466,
   "metadata": {
    "colab": {
     "base_uri": "https://localhost:8080/"
    },
    "id": "ajCQOy2umeDM",
    "outputId": "c90aace4-e2d4-4873-e3b6-6464597995f5"
   },
   "outputs": [
    {
     "data": {
      "text/plain": [
       "rooms                  category\n",
       "year_built                int64\n",
       "location               category\n",
       "building_floor_num        int64\n",
       "garage                 category\n",
       "district               category\n",
       "leasing                category\n",
       "balcony                category\n",
       "size_meters             float64\n",
       "door_type              category\n",
       "apartment_floor_num       int64\n",
       "window_type            category\n",
       "num_windows               int64\n",
       "floor_type             category\n",
       "dtype: object"
      ]
     },
     "execution_count": 466,
     "metadata": {
      "tags": []
     },
     "output_type": "execute_result"
    }
   ],
   "source": [
    "df1.dtypes"
   ]
  },
  {
   "cell_type": "code",
   "execution_count": 467,
   "metadata": {
    "id": "4dZgs3EymkpL"
   },
   "outputs": [],
   "source": [
    "df1[df1.select_dtypes(['category']).columns] = df1.select_dtypes(['category']).apply(lambda x: x.cat.codes)"
   ]
  },
  {
   "cell_type": "code",
   "execution_count": 468,
   "metadata": {
    "colab": {
     "base_uri": "https://localhost:8080/"
    },
    "id": "NFLr1ojcmtaY",
    "outputId": "0fb14163-c004-48cf-9733-c7b54e90ff1f"
   },
   "outputs": [
    {
     "data": {
      "text/plain": [
       "rooms                     int8\n",
       "year_built               int64\n",
       "location                  int8\n",
       "building_floor_num       int64\n",
       "garage                    int8\n",
       "district                  int8\n",
       "leasing                   int8\n",
       "balcony                   int8\n",
       "size_meters            float64\n",
       "door_type                 int8\n",
       "apartment_floor_num      int64\n",
       "window_type               int8\n",
       "num_windows              int64\n",
       "floor_type                int8\n",
       "dtype: object"
      ]
     },
     "execution_count": 468,
     "metadata": {
      "tags": []
     },
     "output_type": "execute_result"
    }
   ],
   "source": [
    "df1.dtypes"
   ]
  },
  {
   "cell_type": "code",
   "execution_count": 469,
   "metadata": {
    "colab": {
     "base_uri": "https://localhost:8080/",
     "height": 224
    },
    "id": "RmHig95pmvKK",
    "outputId": "5b3bb550-c4d3-4d3e-d6b4-cf844c2c542f"
   },
   "outputs": [
    {
     "data": {
      "text/html": [
       "<div>\n",
       "<style scoped>\n",
       "    .dataframe tbody tr th:only-of-type {\n",
       "        vertical-align: middle;\n",
       "    }\n",
       "\n",
       "    .dataframe tbody tr th {\n",
       "        vertical-align: top;\n",
       "    }\n",
       "\n",
       "    .dataframe thead th {\n",
       "        text-align: right;\n",
       "    }\n",
       "</style>\n",
       "<table border=\"1\" class=\"dataframe\">\n",
       "  <thead>\n",
       "    <tr style=\"text-align: right;\">\n",
       "      <th></th>\n",
       "      <th>rooms</th>\n",
       "      <th>year_built</th>\n",
       "      <th>location</th>\n",
       "      <th>building_floor_num</th>\n",
       "      <th>garage</th>\n",
       "      <th>district</th>\n",
       "      <th>leasing</th>\n",
       "      <th>balcony</th>\n",
       "      <th>size_meters</th>\n",
       "      <th>door_type</th>\n",
       "      <th>apartment_floor_num</th>\n",
       "      <th>window_type</th>\n",
       "      <th>num_windows</th>\n",
       "      <th>floor_type</th>\n",
       "    </tr>\n",
       "  </thead>\n",
       "  <tbody>\n",
       "    <tr>\n",
       "      <th>0</th>\n",
       "      <td>4</td>\n",
       "      <td>2010</td>\n",
       "      <td>47</td>\n",
       "      <td>14</td>\n",
       "      <td>0</td>\n",
       "      <td>4</td>\n",
       "      <td>1</td>\n",
       "      <td>1</td>\n",
       "      <td>105.50</td>\n",
       "      <td>4</td>\n",
       "      <td>5</td>\n",
       "      <td>2</td>\n",
       "      <td>5</td>\n",
       "      <td>2</td>\n",
       "    </tr>\n",
       "    <tr>\n",
       "      <th>1</th>\n",
       "      <td>1</td>\n",
       "      <td>2019</td>\n",
       "      <td>53</td>\n",
       "      <td>12</td>\n",
       "      <td>0</td>\n",
       "      <td>4</td>\n",
       "      <td>2</td>\n",
       "      <td>0</td>\n",
       "      <td>61.00</td>\n",
       "      <td>3</td>\n",
       "      <td>6</td>\n",
       "      <td>0</td>\n",
       "      <td>3</td>\n",
       "      <td>2</td>\n",
       "    </tr>\n",
       "    <tr>\n",
       "      <th>2</th>\n",
       "      <td>1</td>\n",
       "      <td>2017</td>\n",
       "      <td>41</td>\n",
       "      <td>16</td>\n",
       "      <td>0</td>\n",
       "      <td>1</td>\n",
       "      <td>0</td>\n",
       "      <td>0</td>\n",
       "      <td>42.30</td>\n",
       "      <td>1</td>\n",
       "      <td>9</td>\n",
       "      <td>0</td>\n",
       "      <td>2</td>\n",
       "      <td>2</td>\n",
       "    </tr>\n",
       "    <tr>\n",
       "      <th>3</th>\n",
       "      <td>1</td>\n",
       "      <td>2009</td>\n",
       "      <td>13</td>\n",
       "      <td>6</td>\n",
       "      <td>0</td>\n",
       "      <td>0</td>\n",
       "      <td>1</td>\n",
       "      <td>0</td>\n",
       "      <td>59.19</td>\n",
       "      <td>0</td>\n",
       "      <td>2</td>\n",
       "      <td>0</td>\n",
       "      <td>4</td>\n",
       "      <td>2</td>\n",
       "    </tr>\n",
       "    <tr>\n",
       "      <th>4</th>\n",
       "      <td>1</td>\n",
       "      <td>1994</td>\n",
       "      <td>11</td>\n",
       "      <td>5</td>\n",
       "      <td>1</td>\n",
       "      <td>2</td>\n",
       "      <td>1</td>\n",
       "      <td>0</td>\n",
       "      <td>56.00</td>\n",
       "      <td>0</td>\n",
       "      <td>1</td>\n",
       "      <td>0</td>\n",
       "      <td>3</td>\n",
       "      <td>4</td>\n",
       "    </tr>\n",
       "  </tbody>\n",
       "</table>\n",
       "</div>"
      ],
      "text/plain": [
       "   rooms  year_built  location  ...  window_type  num_windows  floor_type\n",
       "0      4        2010        47  ...            2            5           2\n",
       "1      1        2019        53  ...            0            3           2\n",
       "2      1        2017        41  ...            0            2           2\n",
       "3      1        2009        13  ...            0            4           2\n",
       "4      1        1994        11  ...            0            3           4\n",
       "\n",
       "[5 rows x 14 columns]"
      ]
     },
     "execution_count": 469,
     "metadata": {
      "tags": []
     },
     "output_type": "execute_result"
    }
   ],
   "source": [
    "df1.head()"
   ]
  },
  {
   "cell_type": "code",
   "execution_count": 470,
   "metadata": {
    "id": "mwcEzYZZK4S6"
   },
   "outputs": [],
   "source": [
    "testdf.dtypes\n",
    "for x in testdf:\n",
    "    if testdf[x].dtypes == \"object\":\n",
    "        testdf[x] = testdf[x].astype('category')"
   ]
  },
  {
   "cell_type": "code",
   "execution_count": 471,
   "metadata": {
    "id": "HPIgVdkftBZj"
   },
   "outputs": [],
   "source": [
    "testdf[testdf.select_dtypes(['category']).columns] = testdf.select_dtypes(['category']).apply(lambda x: x.cat.codes)"
   ]
  },
  {
   "cell_type": "code",
   "execution_count": 472,
   "metadata": {
    "colab": {
     "base_uri": "https://localhost:8080/"
    },
    "id": "wNMuGXQjtCKZ",
    "outputId": "bbfb136c-29cd-4ae6-883e-967d559299a1"
   },
   "outputs": [
    {
     "data": {
      "text/plain": [
       "rooms                     int8\n",
       "year_built               int64\n",
       "location                  int8\n",
       "building_floor_num       int64\n",
       "garage                    int8\n",
       "district                  int8\n",
       "leasing                   int8\n",
       "balcony                   int8\n",
       "size_meters            float64\n",
       "door_type                 int8\n",
       "apartment_floor_num      int64\n",
       "window_type               int8\n",
       "num_windows              int64\n",
       "floor_type                int8\n",
       "dtype: object"
      ]
     },
     "execution_count": 472,
     "metadata": {
      "tags": []
     },
     "output_type": "execute_result"
    }
   ],
   "source": [
    "testdf.dtypes"
   ]
  },
  {
   "cell_type": "markdown",
   "metadata": {
    "id": "-UeivcD6nRNY"
   },
   "source": [
    "4: Splitting The Data"
   ]
  },
  {
   "cell_type": "code",
   "execution_count": 473,
   "metadata": {
    "id": "Q3AdXWVgnS9F"
   },
   "outputs": [],
   "source": [
    "df1_train, df1_test, df2_train, df2_test = model_selection.train_test_split(df1, df2, test_size=.2, random_state=40)"
   ]
  },
  {
   "cell_type": "markdown",
   "metadata": {
    "id": "hw4fP62CnmR7"
   },
   "source": [
    "5: Linear Regression"
   ]
  },
  {
   "cell_type": "code",
   "execution_count": 474,
   "metadata": {
    "id": "vM4kvKqAno-3"
   },
   "outputs": [],
   "source": [
    "Reg = linear_model.LinearRegression()"
   ]
  },
  {
   "cell_type": "code",
   "execution_count": 475,
   "metadata": {
    "colab": {
     "base_uri": "https://localhost:8080/"
    },
    "id": "QU6YTcCUn5yB",
    "outputId": "89855344-cf98-4d85-958c-0b3bca172318"
   },
   "outputs": [
    {
     "data": {
      "text/plain": [
       "LinearRegression(copy_X=True, fit_intercept=True, n_jobs=None, normalize=False)"
      ]
     },
     "execution_count": 475,
     "metadata": {
      "tags": []
     },
     "output_type": "execute_result"
    }
   ],
   "source": [
    "Reg.fit(df1_train, df2_train)"
   ]
  },
  {
   "cell_type": "code",
   "execution_count": 476,
   "metadata": {
    "id": "WdmqGEP8n-2X"
   },
   "outputs": [],
   "source": [
    "Reg_Pred = Reg.predict(df1_test)"
   ]
  },
  {
   "cell_type": "code",
   "execution_count": 477,
   "metadata": {
    "colab": {
     "base_uri": "https://localhost:8080/"
    },
    "id": "pvq19maqoNcX",
    "outputId": "c373f502-9fcb-40f9-827c-746d5cbd5e05"
   },
   "outputs": [
    {
     "data": {
      "text/plain": [
       "593148.6121628642"
      ]
     },
     "execution_count": 477,
     "metadata": {
      "tags": []
     },
     "output_type": "execute_result"
    }
   ],
   "source": [
    "np.sqrt(metrics.mean_squared_error(df2_test, Reg_Pred))"
   ]
  },
  {
   "cell_type": "markdown",
   "metadata": {
    "id": "Sa0BJE-LoeuL"
   },
   "source": [
    "6: Random Forrest"
   ]
  },
  {
   "cell_type": "code",
   "execution_count": 478,
   "metadata": {
    "id": "CyouARMzog-q"
   },
   "outputs": [],
   "source": [
    "Ran = ensemble.RandomForestRegressor(bootstrap=True, ccp_alpha=0.0, criterion='mse',\n",
    "                      max_depth=None, max_features=7, max_leaf_nodes=None,\n",
    "                      max_samples=None, min_impurity_decrease=0.0,\n",
    "                      min_impurity_split=None, min_samples_leaf=1,\n",
    "                      min_samples_split=2, min_weight_fraction_leaf=0.0,\n",
    "                      n_estimators=200, n_jobs=-1, oob_score=False,\n",
    "                      random_state=40, verbose=0, warm_start=False)"
   ]
  },
  {
   "cell_type": "code",
   "execution_count": 479,
   "metadata": {
    "colab": {
     "base_uri": "https://localhost:8080/"
    },
    "id": "0dWL2nR7oqth",
    "outputId": "71a52ece-3d45-4be7-e7b0-fadfdb539621"
   },
   "outputs": [
    {
     "data": {
      "text/plain": [
       "RandomForestRegressor(bootstrap=True, ccp_alpha=0.0, criterion='mse',\n",
       "                      max_depth=None, max_features=7, max_leaf_nodes=None,\n",
       "                      max_samples=None, min_impurity_decrease=0.0,\n",
       "                      min_impurity_split=None, min_samples_leaf=1,\n",
       "                      min_samples_split=2, min_weight_fraction_leaf=0.0,\n",
       "                      n_estimators=200, n_jobs=-1, oob_score=False,\n",
       "                      random_state=40, verbose=0, warm_start=False)"
      ]
     },
     "execution_count": 479,
     "metadata": {
      "tags": []
     },
     "output_type": "execute_result"
    }
   ],
   "source": [
    "Ran.fit(df1_train, np.ravel(df2_train))"
   ]
  },
  {
   "cell_type": "code",
   "execution_count": 480,
   "metadata": {
    "id": "FAZhlflmovU2"
   },
   "outputs": [],
   "source": [
    "Ran_Pred = Ran.predict(df1_test)"
   ]
  },
  {
   "cell_type": "code",
   "execution_count": 481,
   "metadata": {
    "colab": {
     "base_uri": "https://localhost:8080/"
    },
    "id": "z2i4FHyto2H5",
    "outputId": "3a9f2f7f-7174-46f2-8b94-04700cd695b6"
   },
   "outputs": [
    {
     "data": {
      "text/plain": [
       "423139.3906785424"
      ]
     },
     "execution_count": 481,
     "metadata": {
      "tags": []
     },
     "output_type": "execute_result"
    }
   ],
   "source": [
    "np.sqrt(metrics.mean_squared_error(df2_test, Ran_Pred))"
   ]
  },
  {
   "cell_type": "markdown",
   "metadata": {
    "id": "IlZuPxYrpDE8"
   },
   "source": [
    "7: MLP"
   ]
  },
  {
   "cell_type": "code",
   "execution_count": 482,
   "metadata": {
    "id": "qbw2l77TpFYE"
   },
   "outputs": [],
   "source": [
    "nrl = neural_network.MLPRegressor()"
   ]
  },
  {
   "cell_type": "code",
   "execution_count": 483,
   "metadata": {
    "colab": {
     "base_uri": "https://localhost:8080/"
    },
    "id": "M7UitBO2pPwB",
    "outputId": "359d5af1-ea32-49eb-ece6-ac3c997659b0"
   },
   "outputs": [
    {
     "name": "stderr",
     "output_type": "stream",
     "text": [
      "/usr/local/lib/python3.7/dist-packages/sklearn/neural_network/_multilayer_perceptron.py:1342: DataConversionWarning: A column-vector y was passed when a 1d array was expected. Please change the shape of y to (n_samples, ), for example using ravel().\n",
      "  y = column_or_1d(y, warn=True)\n",
      "/usr/local/lib/python3.7/dist-packages/sklearn/neural_network/_multilayer_perceptron.py:571: ConvergenceWarning: Stochastic Optimizer: Maximum iterations (200) reached and the optimization hasn't converged yet.\n",
      "  % self.max_iter, ConvergenceWarning)\n"
     ]
    },
    {
     "data": {
      "text/plain": [
       "MLPRegressor(activation='relu', alpha=0.0001, batch_size='auto', beta_1=0.9,\n",
       "             beta_2=0.999, early_stopping=False, epsilon=1e-08,\n",
       "             hidden_layer_sizes=(100,), learning_rate='constant',\n",
       "             learning_rate_init=0.001, max_fun=15000, max_iter=200,\n",
       "             momentum=0.9, n_iter_no_change=10, nesterovs_momentum=True,\n",
       "             power_t=0.5, random_state=None, shuffle=True, solver='adam',\n",
       "             tol=0.0001, validation_fraction=0.1, verbose=False,\n",
       "             warm_start=False)"
      ]
     },
     "execution_count": 483,
     "metadata": {
      "tags": []
     },
     "output_type": "execute_result"
    }
   ],
   "source": [
    "nrl.fit(df1_train, df2_train)"
   ]
  },
  {
   "cell_type": "code",
   "execution_count": 484,
   "metadata": {
    "id": "4b5knu9wpS0U"
   },
   "outputs": [],
   "source": [
    "nrl_pred = nrl.predict(df1_test)"
   ]
  },
  {
   "cell_type": "code",
   "execution_count": 485,
   "metadata": {
    "colab": {
     "base_uri": "https://localhost:8080/"
    },
    "id": "lGrxPvYPpb5A",
    "outputId": "6d03814c-271f-4235-c2d7-4176049cde23"
   },
   "outputs": [
    {
     "data": {
      "text/plain": [
       "701936.477208084"
      ]
     },
     "execution_count": 485,
     "metadata": {
      "tags": []
     },
     "output_type": "execute_result"
    }
   ],
   "source": [
    "np.sqrt(metrics.mean_squared_error(df2_test, nrl_pred))"
   ]
  },
  {
   "cell_type": "markdown",
   "metadata": {
    "id": "KYbEHDYDpnZg"
   },
   "source": [
    "8: SGD Regressor"
   ]
  },
  {
   "cell_type": "code",
   "execution_count": 486,
   "metadata": {
    "id": "zVgscxHvpraA"
   },
   "outputs": [],
   "source": [
    "SGD = linear_model.SGDRegressor()"
   ]
  },
  {
   "cell_type": "code",
   "execution_count": 487,
   "metadata": {
    "colab": {
     "base_uri": "https://localhost:8080/"
    },
    "id": "QDy6mAt2pxDz",
    "outputId": "9029c7c2-e595-439b-ee2e-7cec578f8745"
   },
   "outputs": [
    {
     "name": "stderr",
     "output_type": "stream",
     "text": [
      "/usr/local/lib/python3.7/dist-packages/sklearn/utils/validation.py:760: DataConversionWarning: A column-vector y was passed when a 1d array was expected. Please change the shape of y to (n_samples, ), for example using ravel().\n",
      "  y = column_or_1d(y, warn=True)\n"
     ]
    },
    {
     "data": {
      "text/plain": [
       "SGDRegressor(alpha=0.0001, average=False, early_stopping=False, epsilon=0.1,\n",
       "             eta0=0.01, fit_intercept=True, l1_ratio=0.15,\n",
       "             learning_rate='invscaling', loss='squared_loss', max_iter=1000,\n",
       "             n_iter_no_change=5, penalty='l2', power_t=0.25, random_state=None,\n",
       "             shuffle=True, tol=0.001, validation_fraction=0.1, verbose=0,\n",
       "             warm_start=False)"
      ]
     },
     "execution_count": 487,
     "metadata": {
      "tags": []
     },
     "output_type": "execute_result"
    }
   ],
   "source": [
    "SGD.fit(df1_train, df2_train)"
   ]
  },
  {
   "cell_type": "code",
   "execution_count": 488,
   "metadata": {
    "id": "SjH4852Sp1Ll"
   },
   "outputs": [],
   "source": [
    "SGD_Pred = SGD.predict(df1_test)"
   ]
  },
  {
   "cell_type": "markdown",
   "metadata": {
    "id": "sjGEaKDXQyeY"
   },
   "source": [
    "* Bonus "
   ]
  },
  {
   "cell_type": "code",
   "execution_count": 489,
   "metadata": {
    "colab": {
     "base_uri": "https://localhost:8080/"
    },
    "id": "vpfsibAXp6TN",
    "outputId": "e25b371d-1ca3-4b8d-e31a-38551f8e8fd1"
   },
   "outputs": [
    {
     "data": {
      "text/plain": [
       "1490441358963174.0"
      ]
     },
     "execution_count": 489,
     "metadata": {
      "tags": []
     },
     "output_type": "execute_result"
    }
   ],
   "source": [
    "np.sqrt(metrics.mean_squared_error(df2_test, SGD_Pred))"
   ]
  },
  {
   "cell_type": "code",
   "execution_count": 490,
   "metadata": {
    "id": "KsrohcHRNRKU"
   },
   "outputs": [],
   "source": [
    "rf_params = {'n_estimators':[ 50, 100, 150, 200, 250, 300, 350, 400, 450],'min_samples_split':np.arange(1,10),\n",
    "             'min_samples_leaf':np.arange(1,10)}"
   ]
  },
  {
   "cell_type": "code",
   "execution_count": 491,
   "metadata": {
    "id": "fU0-RT16p_Qy"
   },
   "outputs": [],
   "source": [
    "forest_random = model_selection.RandomizedSearchCV(Ran, rf_params, n_iter=70, scoring='neg_root_mean_squared_error',\n",
    "                                                n_jobs=-1, verbose=3)"
   ]
  },
  {
   "cell_type": "code",
   "execution_count": 492,
   "metadata": {
    "colab": {
     "base_uri": "https://localhost:8080/",
     "height": 358
    },
    "id": "28lB-YF-NGIM",
    "outputId": "18507634-c7ad-4631-fed1-5cd405765c87"
   },
   "outputs": [
    {
     "name": "stderr",
     "output_type": "stream",
     "text": [
      "[Parallel(n_jobs=-1)]: Using backend LokyBackend with 2 concurrent workers.\n"
     ]
    },
    {
     "name": "stdout",
     "output_type": "stream",
     "text": [
      "Fitting 5 folds for each of 70 candidates, totalling 350 fits\n"
     ]
    },
    {
     "name": "stderr",
     "output_type": "stream",
     "text": [
      "[Parallel(n_jobs=-1)]: Done  28 tasks      | elapsed:   32.1s\n"
     ]
    },
    {
     "ename": "KeyboardInterrupt",
     "evalue": "ignored",
     "output_type": "error",
     "traceback": [
      "\u001b[0;31m---------------------------------------------------------------------------\u001b[0m",
      "\u001b[0;31mKeyboardInterrupt\u001b[0m                         Traceback (most recent call last)",
      "\u001b[0;32m<ipython-input-492-068488bad171>\u001b[0m in \u001b[0;36m<module>\u001b[0;34m()\u001b[0m\n\u001b[0;32m----> 1\u001b[0;31m \u001b[0mforest_random\u001b[0m\u001b[0;34m.\u001b[0m\u001b[0mfit\u001b[0m\u001b[0;34m(\u001b[0m\u001b[0mdf1_train\u001b[0m\u001b[0;34m,\u001b[0m \u001b[0mdf2_train\u001b[0m\u001b[0;34m)\u001b[0m\u001b[0;34m\u001b[0m\u001b[0;34m\u001b[0m\u001b[0m\n\u001b[0m",
      "\u001b[0;32m/usr/local/lib/python3.7/dist-packages/sklearn/model_selection/_search.py\u001b[0m in \u001b[0;36mfit\u001b[0;34m(self, X, y, groups, **fit_params)\u001b[0m\n\u001b[1;32m    708\u001b[0m                 \u001b[0;32mreturn\u001b[0m \u001b[0mresults\u001b[0m\u001b[0;34m\u001b[0m\u001b[0;34m\u001b[0m\u001b[0m\n\u001b[1;32m    709\u001b[0m \u001b[0;34m\u001b[0m\u001b[0m\n\u001b[0;32m--> 710\u001b[0;31m             \u001b[0mself\u001b[0m\u001b[0;34m.\u001b[0m\u001b[0m_run_search\u001b[0m\u001b[0;34m(\u001b[0m\u001b[0mevaluate_candidates\u001b[0m\u001b[0;34m)\u001b[0m\u001b[0;34m\u001b[0m\u001b[0;34m\u001b[0m\u001b[0m\n\u001b[0m\u001b[1;32m    711\u001b[0m \u001b[0;34m\u001b[0m\u001b[0m\n\u001b[1;32m    712\u001b[0m         \u001b[0;31m# For multi-metric evaluation, store the best_index_, best_params_ and\u001b[0m\u001b[0;34m\u001b[0m\u001b[0;34m\u001b[0m\u001b[0;34m\u001b[0m\u001b[0m\n",
      "\u001b[0;32m/usr/local/lib/python3.7/dist-packages/sklearn/model_selection/_search.py\u001b[0m in \u001b[0;36m_run_search\u001b[0;34m(self, evaluate_candidates)\u001b[0m\n\u001b[1;32m   1482\u001b[0m         evaluate_candidates(ParameterSampler(\n\u001b[1;32m   1483\u001b[0m             \u001b[0mself\u001b[0m\u001b[0;34m.\u001b[0m\u001b[0mparam_distributions\u001b[0m\u001b[0;34m,\u001b[0m \u001b[0mself\u001b[0m\u001b[0;34m.\u001b[0m\u001b[0mn_iter\u001b[0m\u001b[0;34m,\u001b[0m\u001b[0;34m\u001b[0m\u001b[0;34m\u001b[0m\u001b[0m\n\u001b[0;32m-> 1484\u001b[0;31m             random_state=self.random_state))\n\u001b[0m",
      "\u001b[0;32m/usr/local/lib/python3.7/dist-packages/sklearn/model_selection/_search.py\u001b[0m in \u001b[0;36mevaluate_candidates\u001b[0;34m(candidate_params)\u001b[0m\n\u001b[1;32m    687\u001b[0m                                \u001b[0;32mfor\u001b[0m \u001b[0mparameters\u001b[0m\u001b[0;34m,\u001b[0m \u001b[0;34m(\u001b[0m\u001b[0mtrain\u001b[0m\u001b[0;34m,\u001b[0m \u001b[0mtest\u001b[0m\u001b[0;34m)\u001b[0m\u001b[0;34m\u001b[0m\u001b[0;34m\u001b[0m\u001b[0m\n\u001b[1;32m    688\u001b[0m                                in product(candidate_params,\n\u001b[0;32m--> 689\u001b[0;31m                                           cv.split(X, y, groups)))\n\u001b[0m\u001b[1;32m    690\u001b[0m \u001b[0;34m\u001b[0m\u001b[0m\n\u001b[1;32m    691\u001b[0m                 \u001b[0;32mif\u001b[0m \u001b[0mlen\u001b[0m\u001b[0;34m(\u001b[0m\u001b[0mout\u001b[0m\u001b[0;34m)\u001b[0m \u001b[0;34m<\u001b[0m \u001b[0;36m1\u001b[0m\u001b[0;34m:\u001b[0m\u001b[0;34m\u001b[0m\u001b[0;34m\u001b[0m\u001b[0m\n",
      "\u001b[0;32m/usr/local/lib/python3.7/dist-packages/joblib/parallel.py\u001b[0m in \u001b[0;36m__call__\u001b[0;34m(self, iterable)\u001b[0m\n\u001b[1;32m   1052\u001b[0m \u001b[0;34m\u001b[0m\u001b[0m\n\u001b[1;32m   1053\u001b[0m             \u001b[0;32mwith\u001b[0m \u001b[0mself\u001b[0m\u001b[0;34m.\u001b[0m\u001b[0m_backend\u001b[0m\u001b[0;34m.\u001b[0m\u001b[0mretrieval_context\u001b[0m\u001b[0;34m(\u001b[0m\u001b[0;34m)\u001b[0m\u001b[0;34m:\u001b[0m\u001b[0;34m\u001b[0m\u001b[0;34m\u001b[0m\u001b[0m\n\u001b[0;32m-> 1054\u001b[0;31m                 \u001b[0mself\u001b[0m\u001b[0;34m.\u001b[0m\u001b[0mretrieve\u001b[0m\u001b[0;34m(\u001b[0m\u001b[0;34m)\u001b[0m\u001b[0;34m\u001b[0m\u001b[0;34m\u001b[0m\u001b[0m\n\u001b[0m\u001b[1;32m   1055\u001b[0m             \u001b[0;31m# Make sure that we get a last message telling us we are done\u001b[0m\u001b[0;34m\u001b[0m\u001b[0;34m\u001b[0m\u001b[0;34m\u001b[0m\u001b[0m\n\u001b[1;32m   1056\u001b[0m             \u001b[0melapsed_time\u001b[0m \u001b[0;34m=\u001b[0m \u001b[0mtime\u001b[0m\u001b[0;34m.\u001b[0m\u001b[0mtime\u001b[0m\u001b[0;34m(\u001b[0m\u001b[0;34m)\u001b[0m \u001b[0;34m-\u001b[0m \u001b[0mself\u001b[0m\u001b[0;34m.\u001b[0m\u001b[0m_start_time\u001b[0m\u001b[0;34m\u001b[0m\u001b[0;34m\u001b[0m\u001b[0m\n",
      "\u001b[0;32m/usr/local/lib/python3.7/dist-packages/joblib/parallel.py\u001b[0m in \u001b[0;36mretrieve\u001b[0;34m(self)\u001b[0m\n\u001b[1;32m    931\u001b[0m             \u001b[0;32mtry\u001b[0m\u001b[0;34m:\u001b[0m\u001b[0;34m\u001b[0m\u001b[0;34m\u001b[0m\u001b[0m\n\u001b[1;32m    932\u001b[0m                 \u001b[0;32mif\u001b[0m \u001b[0mgetattr\u001b[0m\u001b[0;34m(\u001b[0m\u001b[0mself\u001b[0m\u001b[0;34m.\u001b[0m\u001b[0m_backend\u001b[0m\u001b[0;34m,\u001b[0m \u001b[0;34m'supports_timeout'\u001b[0m\u001b[0;34m,\u001b[0m \u001b[0;32mFalse\u001b[0m\u001b[0;34m)\u001b[0m\u001b[0;34m:\u001b[0m\u001b[0;34m\u001b[0m\u001b[0;34m\u001b[0m\u001b[0m\n\u001b[0;32m--> 933\u001b[0;31m                     \u001b[0mself\u001b[0m\u001b[0;34m.\u001b[0m\u001b[0m_output\u001b[0m\u001b[0;34m.\u001b[0m\u001b[0mextend\u001b[0m\u001b[0;34m(\u001b[0m\u001b[0mjob\u001b[0m\u001b[0;34m.\u001b[0m\u001b[0mget\u001b[0m\u001b[0;34m(\u001b[0m\u001b[0mtimeout\u001b[0m\u001b[0;34m=\u001b[0m\u001b[0mself\u001b[0m\u001b[0;34m.\u001b[0m\u001b[0mtimeout\u001b[0m\u001b[0;34m)\u001b[0m\u001b[0;34m)\u001b[0m\u001b[0;34m\u001b[0m\u001b[0;34m\u001b[0m\u001b[0m\n\u001b[0m\u001b[1;32m    934\u001b[0m                 \u001b[0;32melse\u001b[0m\u001b[0;34m:\u001b[0m\u001b[0;34m\u001b[0m\u001b[0;34m\u001b[0m\u001b[0m\n\u001b[1;32m    935\u001b[0m                     \u001b[0mself\u001b[0m\u001b[0;34m.\u001b[0m\u001b[0m_output\u001b[0m\u001b[0;34m.\u001b[0m\u001b[0mextend\u001b[0m\u001b[0;34m(\u001b[0m\u001b[0mjob\u001b[0m\u001b[0;34m.\u001b[0m\u001b[0mget\u001b[0m\u001b[0;34m(\u001b[0m\u001b[0;34m)\u001b[0m\u001b[0;34m)\u001b[0m\u001b[0;34m\u001b[0m\u001b[0;34m\u001b[0m\u001b[0m\n",
      "\u001b[0;32m/usr/local/lib/python3.7/dist-packages/joblib/_parallel_backends.py\u001b[0m in \u001b[0;36mwrap_future_result\u001b[0;34m(future, timeout)\u001b[0m\n\u001b[1;32m    540\u001b[0m         AsyncResults.get from multiprocessing.\"\"\"\n\u001b[1;32m    541\u001b[0m         \u001b[0;32mtry\u001b[0m\u001b[0;34m:\u001b[0m\u001b[0;34m\u001b[0m\u001b[0;34m\u001b[0m\u001b[0m\n\u001b[0;32m--> 542\u001b[0;31m             \u001b[0;32mreturn\u001b[0m \u001b[0mfuture\u001b[0m\u001b[0;34m.\u001b[0m\u001b[0mresult\u001b[0m\u001b[0;34m(\u001b[0m\u001b[0mtimeout\u001b[0m\u001b[0;34m=\u001b[0m\u001b[0mtimeout\u001b[0m\u001b[0;34m)\u001b[0m\u001b[0;34m\u001b[0m\u001b[0;34m\u001b[0m\u001b[0m\n\u001b[0m\u001b[1;32m    543\u001b[0m         \u001b[0;32mexcept\u001b[0m \u001b[0mCfTimeoutError\u001b[0m \u001b[0;32mas\u001b[0m \u001b[0me\u001b[0m\u001b[0;34m:\u001b[0m\u001b[0;34m\u001b[0m\u001b[0;34m\u001b[0m\u001b[0m\n\u001b[1;32m    544\u001b[0m             \u001b[0;32mraise\u001b[0m \u001b[0mTimeoutError\u001b[0m \u001b[0;32mfrom\u001b[0m \u001b[0me\u001b[0m\u001b[0;34m\u001b[0m\u001b[0;34m\u001b[0m\u001b[0m\n",
      "\u001b[0;32m/usr/lib/python3.7/concurrent/futures/_base.py\u001b[0m in \u001b[0;36mresult\u001b[0;34m(self, timeout)\u001b[0m\n\u001b[1;32m    428\u001b[0m                 \u001b[0;32mreturn\u001b[0m \u001b[0mself\u001b[0m\u001b[0;34m.\u001b[0m\u001b[0m__get_result\u001b[0m\u001b[0;34m(\u001b[0m\u001b[0;34m)\u001b[0m\u001b[0;34m\u001b[0m\u001b[0;34m\u001b[0m\u001b[0m\n\u001b[1;32m    429\u001b[0m \u001b[0;34m\u001b[0m\u001b[0m\n\u001b[0;32m--> 430\u001b[0;31m             \u001b[0mself\u001b[0m\u001b[0;34m.\u001b[0m\u001b[0m_condition\u001b[0m\u001b[0;34m.\u001b[0m\u001b[0mwait\u001b[0m\u001b[0;34m(\u001b[0m\u001b[0mtimeout\u001b[0m\u001b[0;34m)\u001b[0m\u001b[0;34m\u001b[0m\u001b[0;34m\u001b[0m\u001b[0m\n\u001b[0m\u001b[1;32m    431\u001b[0m \u001b[0;34m\u001b[0m\u001b[0m\n\u001b[1;32m    432\u001b[0m             \u001b[0;32mif\u001b[0m \u001b[0mself\u001b[0m\u001b[0;34m.\u001b[0m\u001b[0m_state\u001b[0m \u001b[0;32min\u001b[0m \u001b[0;34m[\u001b[0m\u001b[0mCANCELLED\u001b[0m\u001b[0;34m,\u001b[0m \u001b[0mCANCELLED_AND_NOTIFIED\u001b[0m\u001b[0;34m]\u001b[0m\u001b[0;34m:\u001b[0m\u001b[0;34m\u001b[0m\u001b[0;34m\u001b[0m\u001b[0m\n",
      "\u001b[0;32m/usr/lib/python3.7/threading.py\u001b[0m in \u001b[0;36mwait\u001b[0;34m(self, timeout)\u001b[0m\n\u001b[1;32m    294\u001b[0m         \u001b[0;32mtry\u001b[0m\u001b[0;34m:\u001b[0m    \u001b[0;31m# restore state no matter what (e.g., KeyboardInterrupt)\u001b[0m\u001b[0;34m\u001b[0m\u001b[0;34m\u001b[0m\u001b[0m\n\u001b[1;32m    295\u001b[0m             \u001b[0;32mif\u001b[0m \u001b[0mtimeout\u001b[0m \u001b[0;32mis\u001b[0m \u001b[0;32mNone\u001b[0m\u001b[0;34m:\u001b[0m\u001b[0;34m\u001b[0m\u001b[0;34m\u001b[0m\u001b[0m\n\u001b[0;32m--> 296\u001b[0;31m                 \u001b[0mwaiter\u001b[0m\u001b[0;34m.\u001b[0m\u001b[0macquire\u001b[0m\u001b[0;34m(\u001b[0m\u001b[0;34m)\u001b[0m\u001b[0;34m\u001b[0m\u001b[0;34m\u001b[0m\u001b[0m\n\u001b[0m\u001b[1;32m    297\u001b[0m                 \u001b[0mgotit\u001b[0m \u001b[0;34m=\u001b[0m \u001b[0;32mTrue\u001b[0m\u001b[0;34m\u001b[0m\u001b[0;34m\u001b[0m\u001b[0m\n\u001b[1;32m    298\u001b[0m             \u001b[0;32melse\u001b[0m\u001b[0;34m:\u001b[0m\u001b[0;34m\u001b[0m\u001b[0;34m\u001b[0m\u001b[0m\n",
      "\u001b[0;31mKeyboardInterrupt\u001b[0m: "
     ]
    }
   ],
   "source": [
    "forest_random.fit(df1_train, df2_train)"
   ]
  },
  {
   "cell_type": "code",
   "execution_count": null,
   "metadata": {
    "id": "0Akx8eDHNGRO"
   },
   "outputs": [],
   "source": [
    "forest_random_pred = forest_random.predict(df1_test)"
   ]
  },
  {
   "cell_type": "code",
   "execution_count": null,
   "metadata": {
    "id": "aMXPTCgNNGW-"
   },
   "outputs": [],
   "source": [
    "np.sqrt(metrics.mean_squared_error(df2_test, forest_random_pred))"
   ]
  },
  {
   "cell_type": "code",
   "execution_count": null,
   "metadata": {
    "id": "kqYMYs4BNGiB"
   },
   "outputs": [],
   "source": [
    "forest_random.best_estimator_"
   ]
  },
  {
   "cell_type": "markdown",
   "metadata": {
    "id": "PLLI8DpLrJRk"
   },
   "source": [
    "10: Predictions"
   ]
  },
  {
   "cell_type": "code",
   "execution_count": 493,
   "metadata": {
    "id": "mfU7cwd4t8dn"
   },
   "outputs": [],
   "source": [
    "prediction = Ran.predict(testdf)"
   ]
  },
  {
   "cell_type": "code",
   "execution_count": 494,
   "metadata": {
    "id": "0x_ppw3d0uxt"
   },
   "outputs": [],
   "source": [
    "prediction = pd.DataFrame(prediction, index=testdf.index, columns=['price'], )"
   ]
  },
  {
   "cell_type": "code",
   "execution_count": 495,
   "metadata": {
    "id": "lp-dkD3WrVRc"
   },
   "outputs": [],
   "source": [
    "prediction.to_csv('prediction4.csv', index=True)"
   ]
  },
  {
   "cell_type": "code",
   "execution_count": 496,
   "metadata": {
    "colab": {
     "base_uri": "https://localhost:8080/",
     "height": 450
    },
    "id": "f18yf55AvpYm",
    "outputId": "05b3fae6-376b-4941-b3cc-5db9c4a974c3"
   },
   "outputs": [
    {
     "data": {
      "text/html": [
       "<div>\n",
       "<style scoped>\n",
       "    .dataframe tbody tr th:only-of-type {\n",
       "        vertical-align: middle;\n",
       "    }\n",
       "\n",
       "    .dataframe tbody tr th {\n",
       "        vertical-align: top;\n",
       "    }\n",
       "\n",
       "    .dataframe thead th {\n",
       "        text-align: right;\n",
       "    }\n",
       "</style>\n",
       "<table border=\"1\" class=\"dataframe\">\n",
       "  <thead>\n",
       "    <tr style=\"text-align: right;\">\n",
       "      <th></th>\n",
       "      <th>price</th>\n",
       "    </tr>\n",
       "    <tr>\n",
       "      <th>id</th>\n",
       "      <th></th>\n",
       "    </tr>\n",
       "  </thead>\n",
       "  <tbody>\n",
       "    <tr>\n",
       "      <th>3901</th>\n",
       "      <td>1.711957e+06</td>\n",
       "    </tr>\n",
       "    <tr>\n",
       "      <th>353</th>\n",
       "      <td>1.609473e+06</td>\n",
       "    </tr>\n",
       "    <tr>\n",
       "      <th>2978</th>\n",
       "      <td>1.909658e+06</td>\n",
       "    </tr>\n",
       "    <tr>\n",
       "      <th>1197</th>\n",
       "      <td>1.913878e+06</td>\n",
       "    </tr>\n",
       "    <tr>\n",
       "      <th>2121</th>\n",
       "      <td>2.269660e+06</td>\n",
       "    </tr>\n",
       "    <tr>\n",
       "      <th>...</th>\n",
       "      <td>...</td>\n",
       "    </tr>\n",
       "    <tr>\n",
       "      <th>550</th>\n",
       "      <td>2.607638e+06</td>\n",
       "    </tr>\n",
       "    <tr>\n",
       "      <th>2998</th>\n",
       "      <td>2.813789e+06</td>\n",
       "    </tr>\n",
       "    <tr>\n",
       "      <th>1862</th>\n",
       "      <td>1.682633e+06</td>\n",
       "    </tr>\n",
       "    <tr>\n",
       "      <th>3456</th>\n",
       "      <td>1.529938e+06</td>\n",
       "    </tr>\n",
       "    <tr>\n",
       "      <th>3273</th>\n",
       "      <td>2.674102e+06</td>\n",
       "    </tr>\n",
       "  </tbody>\n",
       "</table>\n",
       "<p>966 rows × 1 columns</p>\n",
       "</div>"
      ],
      "text/plain": [
       "             price\n",
       "id                \n",
       "3901  1.711957e+06\n",
       "353   1.609473e+06\n",
       "2978  1.909658e+06\n",
       "1197  1.913878e+06\n",
       "2121  2.269660e+06\n",
       "...            ...\n",
       "550   2.607638e+06\n",
       "2998  2.813789e+06\n",
       "1862  1.682633e+06\n",
       "3456  1.529938e+06\n",
       "3273  2.674102e+06\n",
       "\n",
       "[966 rows x 1 columns]"
      ]
     },
     "execution_count": 496,
     "metadata": {
      "tags": []
     },
     "output_type": "execute_result"
    }
   ],
   "source": [
    "prediction"
   ]
  },
  {
   "cell_type": "code",
   "execution_count": null,
   "metadata": {
    "id": "8OF7iXYf1gNO"
   },
   "outputs": [],
   "source": []
  }
 ],
 "metadata": {
  "colab": {
   "name": "MLpset 2 C.B.ipynb",
   "provenance": []
  },
  "kernelspec": {
   "display_name": "Python 3 (ipykernel)",
   "language": "python",
   "name": "python3"
  },
  "language_info": {
   "codemirror_mode": {
    "name": "ipython",
    "version": 3
   },
   "file_extension": ".py",
   "mimetype": "text/x-python",
   "name": "python",
   "nbconvert_exporter": "python",
   "pygments_lexer": "ipython3",
   "version": "3.8.13"
  }
 },
 "nbformat": 4,
 "nbformat_minor": 4
}
